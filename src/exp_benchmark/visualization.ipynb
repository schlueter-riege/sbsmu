{
 "cells": [
  {
   "cell_type": "code",
   "execution_count": null,
   "metadata": {},
   "outputs": [],
   "source": [
    "import pickle\n",
    "from pathlib import Path\n",
    "import numpy as np\n",
    "from matplotlib import pyplot as plt\n",
    "from matplotlib.colors import LinearSegmentedColormap, ListedColormap, Normalize\n",
    "from matplotlib.ticker import StrMethodFormatter, ScalarFormatter\n",
    "from matplotlib.cm import ScalarMappable\n",
    "from matplotlib import rcParams"
   ]
  },
  {
   "cell_type": "code",
   "execution_count": null,
   "metadata": {},
   "outputs": [],
   "source": [
    "# Matplotlib font configuration\n",
    "rcParams['font.size'] = 16\n",
    "rcParams['font.weight'] = 'normal'\n",
    "rcParams['font.family'] = 'serif'\n",
    "rcParams['text.usetex'] = True\n",
    "\n",
    "COLOR_MAP = {\n",
    "    'SBSMU': '#00429d',\n",
    "    'MU': '#93003a',\n",
    "    'EGD': '#93003a',\n",
    "    'PSGD': '#93003a'\n",
    "}\n",
    "\n",
    "LINESTYLE_MAP = {\n",
    "    'SBSMU': 'solid',\n",
    "    'MU': 'dashed',\n",
    "    'EGD': 'dotted',\n",
    "    'PSGD': 'dashdot'\n",
    "}"
   ]
  },
  {
   "cell_type": "markdown",
   "metadata": {},
   "source": [
    "# MNIST"
   ]
  },
  {
   "cell_type": "code",
   "execution_count": null,
   "metadata": {},
   "outputs": [],
   "source": [
    "def get_data():\n",
    "    \"\"\"Generate dict with losses and st.devs. for each algorithm, print final loss\"\"\"\n",
    "    with open('mnist.pkl', 'rb') as handle:\n",
    "        data = pickle.load(handle) \n",
    "    times = np.linspace(0, 600, num=6001)\n",
    "    processed_data = {}\n",
    "    \n",
    "    # Calculate data for each algorithm\n",
    "    for alg, trials in data.items():\n",
    "        losses = []\n",
    "        stds = []\n",
    "        \n",
    "        # Find the mean loss and std.dev. at each time\n",
    "        for t in times:\n",
    "            t_losses = []\n",
    "            for trial in trials.values():\n",
    "                # Find first loss in trial at time greater than or equal to current time\n",
    "                n = len(trial['times'])\n",
    "                i = next(i for i in range(n - 1, -1, -1) if t >= trial['times'][i])\n",
    "                t_losses.append(trial['losses'][i])\n",
    "            losses.append(np.mean(t_losses))\n",
    "            stds.append(np.std(t_losses))\n",
    "        processed_data[alg] = {'losses': np.array(losses), 'stds': np.array(stds)}\n",
    "        \n",
    "    # Find the final loss for each algorithm, including st.dev.\n",
    "    for alg, trials in data.items():\n",
    "        min_losses = [min(t['losses']) for t in trials.values()]\n",
    "        mean = \"{:.3e}\".format(np.mean(min_losses))\n",
    "        exp = 10 ** int(mean[-2:])\n",
    "        std = round(np.std(min_losses) / exp, 3)\n",
    "        print(f\"{alg}: Minimum loss {mean}, St.dev {std}\")\n",
    "            \n",
    "    return processed_data\n",
    "\n",
    "DATA = get_data()"
   ]
  },
  {
   "cell_type": "markdown",
   "metadata": {},
   "source": [
    "### Plot data"
   ]
  },
  {
   "cell_type": "code",
   "execution_count": null,
   "metadata": {},
   "outputs": [],
   "source": [
    "times = np.linspace(0, 600, num=6001)\n",
    "fig, ax =  plt.subplots(figsize=(10,6))    \n",
    "ax.xaxis.set_label_text('Time (s)')\n",
    "\n",
    "# Format y-axis label\n",
    "ax.yaxis.set_label_text(r'$L_I$', rotation=0)\n",
    "ax.yaxis.set_label_coords(-0.09, 0.47)\n",
    "\n",
    "# Format y-axis grid and ticks\n",
    "ax.set_yscale('log')\n",
    "ax.grid(which='both', axis='y')\n",
    "formatter = ScalarFormatter(useOffset=True, useMathText=True)\n",
    "formatter.set_powerlimits((0,0))\n",
    "\n",
    "\n",
    "# Plot the results for each algorithm\n",
    "for alg, res in DATA.items():\n",
    "    losses = res['losses']\n",
    "    color = COLOR_MAP[alg]\n",
    "    linestyle = LINESTYLE_MAP[alg]\n",
    "    ax.plot(times, losses, color=color, linestyle=linestyle, label=alg, linewidth=5)\n",
    "\n",
    "ax.legend()\n",
    "    \n",
    "# Save figure as pdf\n",
    "title = 'mnist-log'\n",
    "fig.savefig(f\"figs/{title}.pdf\".lower(), bbox_inches='tight')\n",
    "\n",
    "ax.set_title(title)\n",
    "plt.show()"
   ]
  },
  {
   "cell_type": "markdown",
   "metadata": {},
   "source": [
    "### Plot data except PSGD"
   ]
  },
  {
   "cell_type": "code",
   "execution_count": null,
   "metadata": {},
   "outputs": [],
   "source": [
    "times = np.linspace(0, 600, num=6001)\n",
    "fig, ax =  plt.subplots(figsize=(10,6))    \n",
    "ax.xaxis.set_label_text('Time (s)')\n",
    "\n",
    "# Format y-axis label\n",
    "ax.yaxis.set_label_text(r'$L_I$', rotation=0)\n",
    "ax.yaxis.set_label_coords(-0.09, 0.47)\n",
    "\n",
    "# Format y-axis grid and ticks\n",
    "ax.grid(which='both', axis='y')\n",
    "ax.set_ylim(6.25, 7.25)\n",
    "formatter = ScalarFormatter(useOffset=True, useMathText=True)\n",
    "formatter.set_powerlimits((0,0))\n",
    "\n",
    "\n",
    "# Plot the results for each algorithm\n",
    "algs = ['MU', 'SBSMU', 'EGD']\n",
    "for alg in algs:\n",
    "    res = DATA[alg]\n",
    "    losses = res['losses']\n",
    "    stds = res['stds']\n",
    "    color = COLOR_MAP[alg]\n",
    "    linestyle = LINESTYLE_MAP[alg]\n",
    "    ax.plot(times, losses, color=color, linestyle=linestyle, label=alg, linewidth=5)\n",
    "    ax.fill_between(times, losses - stds, losses + stds, color=color, alpha=0.2)\n",
    "\n",
    "ax.legend()\n",
    "    \n",
    "# Save figure as pdf\n",
    "title = 'mnist-linear'\n",
    "fig.savefig(f\"figs/{title}.pdf\".lower(), bbox_inches='tight')\n",
    "\n",
    "\n",
    "ax.set_title(title)\n",
    "plt.show()"
   ]
  },
  {
   "cell_type": "markdown",
   "metadata": {},
   "source": [
    "# Higgs"
   ]
  },
  {
   "cell_type": "code",
   "execution_count": null,
   "metadata": {},
   "outputs": [],
   "source": [
    "def get_data():\n",
    "    \"\"\"Generate dict with losses and st.devs. for each algorithm, print final loss\"\"\"\n",
    "    with open('higgs.pkl', 'rb') as handle:\n",
    "        data = pickle.load(handle) \n",
    "    processed_data = {}\n",
    "    \n",
    "    # Calculate data for each algorithm\n",
    "    for alg, run in data.items():\n",
    "        run = run[1244102535]\n",
    "        processed_data[alg] = {'losses': np.array(run['losses']), 'times': np.array(run['times'])}\n",
    "        \n",
    "    # Find the final loss for each algorithm, including st.dev.\n",
    "    for alg, run in data.items():\n",
    "        run = run[1244102535]\n",
    "        min_loss = round(min(run['losses']), 3)\n",
    "        print(f\"{alg}: Minimum loss {min_loss}\")\n",
    "            \n",
    "    return processed_data\n",
    "\n",
    "DATA = get_data()"
   ]
  },
  {
   "cell_type": "code",
   "execution_count": null,
   "metadata": {},
   "outputs": [],
   "source": [
    "fig, ax =  plt.subplots(figsize=(10,6))   \n",
    "\n",
    "# Format x-axis\n",
    "ax.xaxis.set_label_text('Time (min)')\n",
    "\n",
    "# Format y-axis\n",
    "ax.yaxis.set_label_text(r'$L_I$', rotation=0)\n",
    "ax.yaxis.set_label_coords(-0.09, 0.47)\n",
    "ax.set_yscale('log')\n",
    "ax.grid(which='both', axis='y')\n",
    "formatter = ScalarFormatter(useOffset=True, useMathText=True)\n",
    "formatter.set_powerlimits((0,0))\n",
    "\n",
    "\n",
    "# Plot the results for each algorithm\n",
    "for alg, res in DATA.items():\n",
    "    losses = res['losses']\n",
    "    times = res['times'] / 60\n",
    "    color = COLOR_MAP[alg]\n",
    "    linestyle = LINESTYLE_MAP[alg]\n",
    "    ax.plot(times, losses, color=color, linestyle=linestyle, label=alg, linewidth=5)\n",
    "\n",
    "ax.legend()\n",
    "\n",
    "# Save figure as pdf\n",
    "title = 'higgs'\n",
    "fig.savefig(f\"figs/{title}.pdf\".lower(), bbox_inches='tight')\n",
    "\n",
    "ax.set_title(title)\n",
    "plt.show()"
   ]
  },
  {
   "cell_type": "code",
   "execution_count": null,
   "metadata": {},
   "outputs": [],
   "source": []
  }
 ],
 "metadata": {
  "kernelspec": {
   "display_name": "Python 3",
   "language": "python",
   "name": "python3"
  },
  "language_info": {
   "codemirror_mode": {
    "name": "ipython",
    "version": 3
   },
   "file_extension": ".py",
   "mimetype": "text/x-python",
   "name": "python",
   "nbconvert_exporter": "python",
   "pygments_lexer": "ipython3",
   "version": "3.8.5"
  }
 },
 "nbformat": 4,
 "nbformat_minor": 4
}