{
 "cells": [
  {
   "cell_type": "code",
   "execution_count": null,
   "metadata": {
    "scrolled": false
   },
   "outputs": [],
   "source": [
    "import pickle\n",
    "from pathlib import Path\n",
    "import numpy as np\n",
    "from matplotlib import pyplot as plt\n",
    "from matplotlib.colors import LinearSegmentedColormap, ListedColormap, Normalize\n",
    "from matplotlib.ticker import StrMethodFormatter\n",
    "from matplotlib.cm import ScalarMappable\n",
    "from matplotlib import rcParams"
   ]
  },
  {
   "cell_type": "markdown",
   "metadata": {},
   "source": [
    "# Load and parse data"
   ]
  },
  {
   "cell_type": "code",
   "execution_count": null,
   "metadata": {
    "scrolled": false
   },
   "outputs": [],
   "source": [
    "def load_results():\n",
    "    results = {}\n",
    "    results_dir = Path('results')\n",
    "    for dataset_results_dir in results_dir.iterdir():\n",
    "        dataset_results = {}\n",
    "        for dataset_results_path  in dataset_results_dir.iterdir():\n",
    "            with open(dataset_results_path, 'rb') as handle:\n",
    "                dataset_results = {**dataset_results, **pickle.load(handle)}\n",
    "        results[dataset_results_dir.stem] = dataset_results\n",
    "    return results\n",
    "\n",
    "ALPHAS = np.array([0.9, 0.99, 0.999, 0.9999, 0.99999])\n",
    "BETAS = np.array([0.1, 0.3, 0.5, 0.7, 0.9])\n",
    "ETAS = np.array([0.1, 0.3, 0.5, 0.7, 0.9])\n",
    "RESULTS = load_results()\n",
    "\n",
    "def parse_results(dataset_name, beta, metric):\n",
    "    values = np.zeros((ALPHAS.size, ETAS.size), dtype=float)\n",
    "    data = {(alpha, eta): d for (alpha, b, eta), d in RESULTS[dataset_name].items() if b == beta}\n",
    "    \n",
    "    for (alpha, eta), res in data.items():\n",
    "        j = np.argwhere(ALPHAS==alpha)[0,0]\n",
    "        i = np.argwhere(ETAS==eta)[0,0]\n",
    "        \n",
    "        if metric == 'min':\n",
    "            min_losses = [min(d['losses']) for d in res.values()]\n",
    "            loss = np.log(np.mean(min_losses))\n",
    "        elif metric == 'last':\n",
    "            last_losses = [d['losses'][-1] for d in res.values()]\n",
    "            loss = np.log(np.mean(last_losses))\n",
    "        values[i, j] = loss\n",
    "    return values"
   ]
  },
  {
   "cell_type": "markdown",
   "metadata": {},
   "source": [
    "# Find optimal configuration for each dataset"
   ]
  },
  {
   "cell_type": "code",
   "execution_count": null,
   "metadata": {},
   "outputs": [],
   "source": [
    "for dataset_name, data in RESULTS.items():\n",
    "    min_loss = np.inf\n",
    "    min_loss_std = None\n",
    "    last_loss = None\n",
    "    last_loss_std = None\n",
    "    opt_conf = None\n",
    "    for c, res in data.items():\n",
    "        c_min_losses = [min(d['losses']) for d in res.values()]\n",
    "        c_min_loss = np.mean(c_min_losses)\n",
    "        \n",
    "        if c_min_loss < min_loss:\n",
    "            opt_conf = c\n",
    "            min_loss = c_min_loss\n",
    "            min_loss_std = np.std(c_min_losses)\n",
    "            c_last_losses = [d['losses'][-1] for d in res.values()]\n",
    "            last_loss = np.mean(c_last_losses)\n",
    "            last_loss_std = np.std(c_last_losses)\n",
    "    \n",
    "    print(f'\\n{dataset_name}')\n",
    "    print(f'Opt conf:  {opt_conf}')\n",
    "    print(f'Min loss:  {round(min_loss, 3)} +- {round(min_loss_std, 3)}')\n",
    "    print(f'Last loss: {round(last_loss, 3)} +- {round(last_loss_std, 3)}')"
   ]
  },
  {
   "cell_type": "markdown",
   "metadata": {},
   "source": [
    "# Plot data"
   ]
  },
  {
   "cell_type": "code",
   "execution_count": null,
   "metadata": {
    "scrolled": false
   },
   "outputs": [],
   "source": [
    "# Matplotlib font configuration\n",
    "rcParams['font.size'] = 16\n",
    "rcParams['font.weight'] = 'normal'\n",
    "rcParams['font.family'] = 'serif'\n",
    "rcParams['text.usetex'] = True\n",
    "\n",
    "# Matplotlib color map\n",
    "cmap = LinearSegmentedColormap.from_list('mycmap', ['#00429d', '#4771b2', '#73a2c6', '#a5d5d8', '#ffffe0', \n",
    "                                                    '#ffbcaf', '#f4777f', '#cf3759', '#93003a'])\n",
    "\n",
    "def plot(dataset_name, beta, metric):\n",
    "    \"\"\"Plot heatmap\"\"\"\n",
    "    values = parse_results(dataset_name, beta, metric)\n",
    "    fig, ax = plt.subplots(figsize=(4.5, 3.5))\n",
    "    mappable = ax.imshow(values, cmap=cmap, aspect='auto', interpolation='none', origin='lower')\n",
    "\n",
    "    # Format color bar\n",
    "    cbar = fig.colorbar(mappable=mappable, ax=ax, pad=0.02)\n",
    "    cbar.ax.yaxis.set_label_text(r'$\\ln{(L_{I})}$')\n",
    "    cbar.ax.yaxis.set_label_coords(5, 0.51)\n",
    "    cbar.ax.yaxis.set_major_formatter(StrMethodFormatter('{x:.1f}'))\n",
    "\n",
    "    # Format x-axis\n",
    "    ax.xaxis.set_ticks(np.arange(0, ALPHAS.shape[0]))\n",
    "    x_labels = ALPHAS\n",
    "    ax.xaxis.set_ticklabels(x_labels, rotation=30)\n",
    "    ax.xaxis.set_label_text(r'$\\alpha$')\n",
    "    ax.xaxis.set_label_coords(0.5, -0.22)\n",
    "\n",
    "    # Format y-axis\n",
    "    ax.yaxis.set_ticks(np.arange(0, ETAS.shape[0]))\n",
    "    y_labels = ETAS\n",
    "    ax.yaxis.set_ticklabels(y_labels)\n",
    "    ax.yaxis.set_label_text(r'$\\eta$', rotation=0)\n",
    "    ax.yaxis.set_label_coords(-0.2, 0.47)\n",
    "    \n",
    "    # Annotate heatmap\n",
    "    kw = {'horizontalalignment': 'center', 'verticalalignment': 'center'}\n",
    "    intvl = values.max() - values.min()\n",
    "    max_threshold = values.min() + 0.85 * intvl\n",
    "    min_threshold = values.min() + 0.15 * intvl\n",
    "    for i in range(values.shape[0]):\n",
    "        for j in range(values.shape[1]):\n",
    "            white = values[i, j] > max_threshold or values[i, j] < min_threshold\n",
    "            textcolor = 'w' if white else 'k'\n",
    "            kw.update(color=textcolor)\n",
    "            value = '{0:.2f}'.format(values[i, j])\n",
    "            ax.text(j, i, value, **kw)\n",
    "\n",
    "    # Save figure as pdf\n",
    "    title = f'{dataset_name}-{metric}-{beta}'\n",
    "    fig.savefig(f\"figs/{title}.pdf\".lower(), bbox_inches='tight')\n",
    "    \n",
    "    ax.set_title(title)\n",
    "    plt.show()"
   ]
  },
  {
   "cell_type": "code",
   "execution_count": null,
   "metadata": {
    "scrolled": false
   },
   "outputs": [],
   "source": [
    "for dataset_name in RESULTS.keys():\n",
    "    for beta in BETAS:\n",
    "        plot(dataset_name, beta, 'min')\n",
    "        plot(dataset_name, beta, 'last')"
   ]
  },
  {
   "cell_type": "code",
   "execution_count": null,
   "metadata": {
    "scrolled": true
   },
   "outputs": [],
   "source": []
  }
 ],
 "metadata": {
  "kernelspec": {
   "display_name": "Python 3",
   "language": "python",
   "name": "python3"
  },
  "language_info": {
   "codemirror_mode": {
    "name": "ipython",
    "version": 3
   },
   "file_extension": ".py",
   "mimetype": "text/x-python",
   "name": "python",
   "nbconvert_exporter": "python",
   "pygments_lexer": "ipython3",
   "version": "3.8.5"
  }
 },
 "nbformat": 4,
 "nbformat_minor": 4
}